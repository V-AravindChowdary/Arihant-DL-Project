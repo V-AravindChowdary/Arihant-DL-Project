{
 "cells": [
  {
   "cell_type": "markdown",
   "metadata": {},
   "source": [
    "# Loading dataset"
   ]
  },
  {
   "cell_type": "code",
   "execution_count": 1,
   "metadata": {
    "scrolled": false
   },
   "outputs": [
    {
     "data": {
      "text/html": [
       "<div>\n",
       "<style scoped>\n",
       "    .dataframe tbody tr th:only-of-type {\n",
       "        vertical-align: middle;\n",
       "    }\n",
       "\n",
       "    .dataframe tbody tr th {\n",
       "        vertical-align: top;\n",
       "    }\n",
       "\n",
       "    .dataframe thead th {\n",
       "        text-align: right;\n",
       "    }\n",
       "</style>\n",
       "<table border=\"1\" class=\"dataframe\">\n",
       "  <thead>\n",
       "    <tr style=\"text-align: right;\">\n",
       "      <th></th>\n",
       "      <th>iso_code</th>\n",
       "      <th>continent</th>\n",
       "      <th>location</th>\n",
       "      <th>date</th>\n",
       "      <th>total_cases</th>\n",
       "      <th>new_cases</th>\n",
       "      <th>total_deaths</th>\n",
       "      <th>new_deaths</th>\n",
       "      <th>total_cases_per_million</th>\n",
       "      <th>new_cases_per_million</th>\n",
       "      <th>...</th>\n",
       "      <th>aged_70_older</th>\n",
       "      <th>gdp_per_capita</th>\n",
       "      <th>extreme_poverty</th>\n",
       "      <th>cardiovasc_death_rate</th>\n",
       "      <th>diabetes_prevalence</th>\n",
       "      <th>female_smokers</th>\n",
       "      <th>male_smokers</th>\n",
       "      <th>handwashing_facilities</th>\n",
       "      <th>hospital_beds_per_thousand</th>\n",
       "      <th>life_expectancy</th>\n",
       "    </tr>\n",
       "  </thead>\n",
       "  <tbody>\n",
       "    <tr>\n",
       "      <th>0</th>\n",
       "      <td>ABW</td>\n",
       "      <td>North America</td>\n",
       "      <td>Aruba</td>\n",
       "      <td>2020-03-13</td>\n",
       "      <td>2.0</td>\n",
       "      <td>2.0</td>\n",
       "      <td>0.0</td>\n",
       "      <td>0.0</td>\n",
       "      <td>18.733</td>\n",
       "      <td>18.733</td>\n",
       "      <td>...</td>\n",
       "      <td>7.452</td>\n",
       "      <td>35973.781</td>\n",
       "      <td>NaN</td>\n",
       "      <td>NaN</td>\n",
       "      <td>11.62</td>\n",
       "      <td>NaN</td>\n",
       "      <td>NaN</td>\n",
       "      <td>NaN</td>\n",
       "      <td>NaN</td>\n",
       "      <td>76.29</td>\n",
       "    </tr>\n",
       "    <tr>\n",
       "      <th>1</th>\n",
       "      <td>ABW</td>\n",
       "      <td>North America</td>\n",
       "      <td>Aruba</td>\n",
       "      <td>2020-03-20</td>\n",
       "      <td>4.0</td>\n",
       "      <td>2.0</td>\n",
       "      <td>0.0</td>\n",
       "      <td>0.0</td>\n",
       "      <td>37.465</td>\n",
       "      <td>18.733</td>\n",
       "      <td>...</td>\n",
       "      <td>7.452</td>\n",
       "      <td>35973.781</td>\n",
       "      <td>NaN</td>\n",
       "      <td>NaN</td>\n",
       "      <td>11.62</td>\n",
       "      <td>NaN</td>\n",
       "      <td>NaN</td>\n",
       "      <td>NaN</td>\n",
       "      <td>NaN</td>\n",
       "      <td>76.29</td>\n",
       "    </tr>\n",
       "    <tr>\n",
       "      <th>2</th>\n",
       "      <td>ABW</td>\n",
       "      <td>North America</td>\n",
       "      <td>Aruba</td>\n",
       "      <td>2020-03-24</td>\n",
       "      <td>12.0</td>\n",
       "      <td>8.0</td>\n",
       "      <td>0.0</td>\n",
       "      <td>0.0</td>\n",
       "      <td>112.395</td>\n",
       "      <td>74.930</td>\n",
       "      <td>...</td>\n",
       "      <td>7.452</td>\n",
       "      <td>35973.781</td>\n",
       "      <td>NaN</td>\n",
       "      <td>NaN</td>\n",
       "      <td>11.62</td>\n",
       "      <td>NaN</td>\n",
       "      <td>NaN</td>\n",
       "      <td>NaN</td>\n",
       "      <td>NaN</td>\n",
       "      <td>76.29</td>\n",
       "    </tr>\n",
       "    <tr>\n",
       "      <th>3</th>\n",
       "      <td>ABW</td>\n",
       "      <td>North America</td>\n",
       "      <td>Aruba</td>\n",
       "      <td>2020-03-25</td>\n",
       "      <td>17.0</td>\n",
       "      <td>5.0</td>\n",
       "      <td>0.0</td>\n",
       "      <td>0.0</td>\n",
       "      <td>159.227</td>\n",
       "      <td>46.831</td>\n",
       "      <td>...</td>\n",
       "      <td>7.452</td>\n",
       "      <td>35973.781</td>\n",
       "      <td>NaN</td>\n",
       "      <td>NaN</td>\n",
       "      <td>11.62</td>\n",
       "      <td>NaN</td>\n",
       "      <td>NaN</td>\n",
       "      <td>NaN</td>\n",
       "      <td>NaN</td>\n",
       "      <td>76.29</td>\n",
       "    </tr>\n",
       "    <tr>\n",
       "      <th>4</th>\n",
       "      <td>ABW</td>\n",
       "      <td>North America</td>\n",
       "      <td>Aruba</td>\n",
       "      <td>2020-03-26</td>\n",
       "      <td>19.0</td>\n",
       "      <td>2.0</td>\n",
       "      <td>0.0</td>\n",
       "      <td>0.0</td>\n",
       "      <td>177.959</td>\n",
       "      <td>18.733</td>\n",
       "      <td>...</td>\n",
       "      <td>7.452</td>\n",
       "      <td>35973.781</td>\n",
       "      <td>NaN</td>\n",
       "      <td>NaN</td>\n",
       "      <td>11.62</td>\n",
       "      <td>NaN</td>\n",
       "      <td>NaN</td>\n",
       "      <td>NaN</td>\n",
       "      <td>NaN</td>\n",
       "      <td>76.29</td>\n",
       "    </tr>\n",
       "  </tbody>\n",
       "</table>\n",
       "<p>5 rows × 36 columns</p>\n",
       "</div>"
      ],
      "text/plain": [
       "  iso_code      continent location        date  total_cases  new_cases  \\\n",
       "0      ABW  North America    Aruba  2020-03-13          2.0        2.0   \n",
       "1      ABW  North America    Aruba  2020-03-20          4.0        2.0   \n",
       "2      ABW  North America    Aruba  2020-03-24         12.0        8.0   \n",
       "3      ABW  North America    Aruba  2020-03-25         17.0        5.0   \n",
       "4      ABW  North America    Aruba  2020-03-26         19.0        2.0   \n",
       "\n",
       "   total_deaths  new_deaths  total_cases_per_million  new_cases_per_million  \\\n",
       "0           0.0         0.0                   18.733                 18.733   \n",
       "1           0.0         0.0                   37.465                 18.733   \n",
       "2           0.0         0.0                  112.395                 74.930   \n",
       "3           0.0         0.0                  159.227                 46.831   \n",
       "4           0.0         0.0                  177.959                 18.733   \n",
       "\n",
       "   ...  aged_70_older  gdp_per_capita  extreme_poverty  cardiovasc_death_rate  \\\n",
       "0  ...          7.452       35973.781              NaN                    NaN   \n",
       "1  ...          7.452       35973.781              NaN                    NaN   \n",
       "2  ...          7.452       35973.781              NaN                    NaN   \n",
       "3  ...          7.452       35973.781              NaN                    NaN   \n",
       "4  ...          7.452       35973.781              NaN                    NaN   \n",
       "\n",
       "   diabetes_prevalence  female_smokers  male_smokers  handwashing_facilities  \\\n",
       "0                11.62             NaN           NaN                     NaN   \n",
       "1                11.62             NaN           NaN                     NaN   \n",
       "2                11.62             NaN           NaN                     NaN   \n",
       "3                11.62             NaN           NaN                     NaN   \n",
       "4                11.62             NaN           NaN                     NaN   \n",
       "\n",
       "   hospital_beds_per_thousand  life_expectancy  \n",
       "0                         NaN            76.29  \n",
       "1                         NaN            76.29  \n",
       "2                         NaN            76.29  \n",
       "3                         NaN            76.29  \n",
       "4                         NaN            76.29  \n",
       "\n",
       "[5 rows x 36 columns]"
      ]
     },
     "execution_count": 1,
     "metadata": {},
     "output_type": "execute_result"
    }
   ],
   "source": [
    "import pandas as pd\n",
    "import numpy as np\n",
    "import matplotlib.pyplot as plt\n",
    "df=pd.read_csv(\"owid-covid-data.csv\") \n",
    "df.head()"
   ]
  },
  {
   "cell_type": "code",
   "execution_count": 2,
   "metadata": {},
   "outputs": [
    {
     "data": {
      "text/plain": [
       "(36347, 36)"
      ]
     },
     "execution_count": 2,
     "metadata": {},
     "output_type": "execute_result"
    }
   ],
   "source": [
    "df.shape"
   ]
  },
  {
   "cell_type": "markdown",
   "metadata": {},
   "source": [
    "# Subsetting rows with India only"
   ]
  },
  {
   "cell_type": "code",
   "execution_count": 3,
   "metadata": {
    "scrolled": true
   },
   "outputs": [
    {
     "data": {
      "text/html": [
       "<div>\n",
       "<style scoped>\n",
       "    .dataframe tbody tr th:only-of-type {\n",
       "        vertical-align: middle;\n",
       "    }\n",
       "\n",
       "    .dataframe tbody tr th {\n",
       "        vertical-align: top;\n",
       "    }\n",
       "\n",
       "    .dataframe thead th {\n",
       "        text-align: right;\n",
       "    }\n",
       "</style>\n",
       "<table border=\"1\" class=\"dataframe\">\n",
       "  <thead>\n",
       "    <tr style=\"text-align: right;\">\n",
       "      <th></th>\n",
       "      <th>iso_code</th>\n",
       "      <th>continent</th>\n",
       "      <th>location</th>\n",
       "      <th>date</th>\n",
       "      <th>total_cases</th>\n",
       "      <th>new_cases</th>\n",
       "      <th>total_deaths</th>\n",
       "      <th>new_deaths</th>\n",
       "      <th>total_cases_per_million</th>\n",
       "      <th>new_cases_per_million</th>\n",
       "      <th>...</th>\n",
       "      <th>aged_70_older</th>\n",
       "      <th>gdp_per_capita</th>\n",
       "      <th>extreme_poverty</th>\n",
       "      <th>cardiovasc_death_rate</th>\n",
       "      <th>diabetes_prevalence</th>\n",
       "      <th>female_smokers</th>\n",
       "      <th>male_smokers</th>\n",
       "      <th>handwashing_facilities</th>\n",
       "      <th>hospital_beds_per_thousand</th>\n",
       "      <th>life_expectancy</th>\n",
       "    </tr>\n",
       "  </thead>\n",
       "  <tbody>\n",
       "    <tr>\n",
       "      <th>15577</th>\n",
       "      <td>IND</td>\n",
       "      <td>Asia</td>\n",
       "      <td>India</td>\n",
       "      <td>2019-12-31</td>\n",
       "      <td>0.0</td>\n",
       "      <td>0.0</td>\n",
       "      <td>0.0</td>\n",
       "      <td>0.0</td>\n",
       "      <td>0.0</td>\n",
       "      <td>0.0</td>\n",
       "      <td>...</td>\n",
       "      <td>3.414</td>\n",
       "      <td>6426.674</td>\n",
       "      <td>21.2</td>\n",
       "      <td>282.28</td>\n",
       "      <td>10.39</td>\n",
       "      <td>1.9</td>\n",
       "      <td>20.6</td>\n",
       "      <td>59.55</td>\n",
       "      <td>0.53</td>\n",
       "      <td>69.66</td>\n",
       "    </tr>\n",
       "    <tr>\n",
       "      <th>15578</th>\n",
       "      <td>IND</td>\n",
       "      <td>Asia</td>\n",
       "      <td>India</td>\n",
       "      <td>2020-01-01</td>\n",
       "      <td>0.0</td>\n",
       "      <td>0.0</td>\n",
       "      <td>0.0</td>\n",
       "      <td>0.0</td>\n",
       "      <td>0.0</td>\n",
       "      <td>0.0</td>\n",
       "      <td>...</td>\n",
       "      <td>3.414</td>\n",
       "      <td>6426.674</td>\n",
       "      <td>21.2</td>\n",
       "      <td>282.28</td>\n",
       "      <td>10.39</td>\n",
       "      <td>1.9</td>\n",
       "      <td>20.6</td>\n",
       "      <td>59.55</td>\n",
       "      <td>0.53</td>\n",
       "      <td>69.66</td>\n",
       "    </tr>\n",
       "    <tr>\n",
       "      <th>15579</th>\n",
       "      <td>IND</td>\n",
       "      <td>Asia</td>\n",
       "      <td>India</td>\n",
       "      <td>2020-01-02</td>\n",
       "      <td>0.0</td>\n",
       "      <td>0.0</td>\n",
       "      <td>0.0</td>\n",
       "      <td>0.0</td>\n",
       "      <td>0.0</td>\n",
       "      <td>0.0</td>\n",
       "      <td>...</td>\n",
       "      <td>3.414</td>\n",
       "      <td>6426.674</td>\n",
       "      <td>21.2</td>\n",
       "      <td>282.28</td>\n",
       "      <td>10.39</td>\n",
       "      <td>1.9</td>\n",
       "      <td>20.6</td>\n",
       "      <td>59.55</td>\n",
       "      <td>0.53</td>\n",
       "      <td>69.66</td>\n",
       "    </tr>\n",
       "    <tr>\n",
       "      <th>15580</th>\n",
       "      <td>IND</td>\n",
       "      <td>Asia</td>\n",
       "      <td>India</td>\n",
       "      <td>2020-01-03</td>\n",
       "      <td>0.0</td>\n",
       "      <td>0.0</td>\n",
       "      <td>0.0</td>\n",
       "      <td>0.0</td>\n",
       "      <td>0.0</td>\n",
       "      <td>0.0</td>\n",
       "      <td>...</td>\n",
       "      <td>3.414</td>\n",
       "      <td>6426.674</td>\n",
       "      <td>21.2</td>\n",
       "      <td>282.28</td>\n",
       "      <td>10.39</td>\n",
       "      <td>1.9</td>\n",
       "      <td>20.6</td>\n",
       "      <td>59.55</td>\n",
       "      <td>0.53</td>\n",
       "      <td>69.66</td>\n",
       "    </tr>\n",
       "    <tr>\n",
       "      <th>15581</th>\n",
       "      <td>IND</td>\n",
       "      <td>Asia</td>\n",
       "      <td>India</td>\n",
       "      <td>2020-01-04</td>\n",
       "      <td>0.0</td>\n",
       "      <td>0.0</td>\n",
       "      <td>0.0</td>\n",
       "      <td>0.0</td>\n",
       "      <td>0.0</td>\n",
       "      <td>0.0</td>\n",
       "      <td>...</td>\n",
       "      <td>3.414</td>\n",
       "      <td>6426.674</td>\n",
       "      <td>21.2</td>\n",
       "      <td>282.28</td>\n",
       "      <td>10.39</td>\n",
       "      <td>1.9</td>\n",
       "      <td>20.6</td>\n",
       "      <td>59.55</td>\n",
       "      <td>0.53</td>\n",
       "      <td>69.66</td>\n",
       "    </tr>\n",
       "  </tbody>\n",
       "</table>\n",
       "<p>5 rows × 36 columns</p>\n",
       "</div>"
      ],
      "text/plain": [
       "      iso_code continent location        date  total_cases  new_cases  \\\n",
       "15577      IND      Asia    India  2019-12-31          0.0        0.0   \n",
       "15578      IND      Asia    India  2020-01-01          0.0        0.0   \n",
       "15579      IND      Asia    India  2020-01-02          0.0        0.0   \n",
       "15580      IND      Asia    India  2020-01-03          0.0        0.0   \n",
       "15581      IND      Asia    India  2020-01-04          0.0        0.0   \n",
       "\n",
       "       total_deaths  new_deaths  total_cases_per_million  \\\n",
       "15577           0.0         0.0                      0.0   \n",
       "15578           0.0         0.0                      0.0   \n",
       "15579           0.0         0.0                      0.0   \n",
       "15580           0.0         0.0                      0.0   \n",
       "15581           0.0         0.0                      0.0   \n",
       "\n",
       "       new_cases_per_million  ...  aged_70_older  gdp_per_capita  \\\n",
       "15577                    0.0  ...          3.414        6426.674   \n",
       "15578                    0.0  ...          3.414        6426.674   \n",
       "15579                    0.0  ...          3.414        6426.674   \n",
       "15580                    0.0  ...          3.414        6426.674   \n",
       "15581                    0.0  ...          3.414        6426.674   \n",
       "\n",
       "       extreme_poverty  cardiovasc_death_rate  diabetes_prevalence  \\\n",
       "15577             21.2                 282.28                10.39   \n",
       "15578             21.2                 282.28                10.39   \n",
       "15579             21.2                 282.28                10.39   \n",
       "15580             21.2                 282.28                10.39   \n",
       "15581             21.2                 282.28                10.39   \n",
       "\n",
       "       female_smokers  male_smokers  handwashing_facilities  \\\n",
       "15577             1.9          20.6                   59.55   \n",
       "15578             1.9          20.6                   59.55   \n",
       "15579             1.9          20.6                   59.55   \n",
       "15580             1.9          20.6                   59.55   \n",
       "15581             1.9          20.6                   59.55   \n",
       "\n",
       "       hospital_beds_per_thousand  life_expectancy  \n",
       "15577                        0.53            69.66  \n",
       "15578                        0.53            69.66  \n",
       "15579                        0.53            69.66  \n",
       "15580                        0.53            69.66  \n",
       "15581                        0.53            69.66  \n",
       "\n",
       "[5 rows x 36 columns]"
      ]
     },
     "execution_count": 3,
     "metadata": {},
     "output_type": "execute_result"
    }
   ],
   "source": [
    "df=df[df[\"location\"]==\"India\"]\n",
    "df.head()"
   ]
  },
  {
   "cell_type": "markdown",
   "metadata": {},
   "source": [
    "# Handling missing values"
   ]
  },
  {
   "cell_type": "code",
   "execution_count": 4,
   "metadata": {
    "scrolled": true
   },
   "outputs": [
    {
     "name": "stdout",
     "output_type": "stream",
     "text": [
      "<class 'pandas.core.frame.DataFrame'>\n",
      "Int64Index: 225 entries, 15577 to 15801\n",
      "Data columns (total 36 columns):\n",
      " #   Column                           Non-Null Count  Dtype  \n",
      "---  ------                           --------------  -----  \n",
      " 0   iso_code                         225 non-null    object \n",
      " 1   continent                        225 non-null    object \n",
      " 2   location                         225 non-null    object \n",
      " 3   date                             225 non-null    object \n",
      " 4   total_cases                      225 non-null    float64\n",
      " 5   new_cases                        225 non-null    float64\n",
      " 6   total_deaths                     225 non-null    float64\n",
      " 7   new_deaths                       225 non-null    float64\n",
      " 8   total_cases_per_million          225 non-null    float64\n",
      " 9   new_cases_per_million            225 non-null    float64\n",
      " 10  total_deaths_per_million         225 non-null    float64\n",
      " 11  new_deaths_per_million           225 non-null    float64\n",
      " 12  new_tests                        134 non-null    float64\n",
      " 13  total_tests                      140 non-null    float64\n",
      " 14  total_tests_per_thousand         140 non-null    float64\n",
      " 15  new_tests_per_thousand           134 non-null    float64\n",
      " 16  new_tests_smoothed               145 non-null    float64\n",
      " 17  new_tests_smoothed_per_thousand  145 non-null    float64\n",
      " 18  tests_per_case                   145 non-null    float64\n",
      " 19  positive_rate                    145 non-null    float64\n",
      " 20  tests_units                      152 non-null    object \n",
      " 21  stringency_index                 219 non-null    float64\n",
      " 22  population                       225 non-null    float64\n",
      " 23  population_density               225 non-null    float64\n",
      " 24  median_age                       225 non-null    float64\n",
      " 25  aged_65_older                    225 non-null    float64\n",
      " 26  aged_70_older                    225 non-null    float64\n",
      " 27  gdp_per_capita                   225 non-null    float64\n",
      " 28  extreme_poverty                  225 non-null    float64\n",
      " 29  cardiovasc_death_rate            225 non-null    float64\n",
      " 30  diabetes_prevalence              225 non-null    float64\n",
      " 31  female_smokers                   225 non-null    float64\n",
      " 32  male_smokers                     225 non-null    float64\n",
      " 33  handwashing_facilities           225 non-null    float64\n",
      " 34  hospital_beds_per_thousand       225 non-null    float64\n",
      " 35  life_expectancy                  225 non-null    float64\n",
      "dtypes: float64(31), object(5)\n",
      "memory usage: 65.0+ KB\n"
     ]
    }
   ],
   "source": [
    "df.info()"
   ]
  },
  {
   "cell_type": "code",
   "execution_count": 5,
   "metadata": {},
   "outputs": [
    {
     "data": {
      "text/plain": [
       "225"
      ]
     },
     "execution_count": 5,
     "metadata": {},
     "output_type": "execute_result"
    }
   ],
   "source": [
    "df.shape[0]"
   ]
  },
  {
   "cell_type": "markdown",
   "metadata": {},
   "source": [
    "Checking for more than 50% null values to remove if any"
   ]
  },
  {
   "cell_type": "code",
   "execution_count": 6,
   "metadata": {
    "scrolled": true
   },
   "outputs": [
    {
     "data": {
      "text/plain": [
       "iso_code                            0.000000\n",
       "continent                           0.000000\n",
       "location                            0.000000\n",
       "date                                0.000000\n",
       "total_cases                         0.000000\n",
       "new_cases                           0.000000\n",
       "total_deaths                        0.000000\n",
       "new_deaths                          0.000000\n",
       "total_cases_per_million             0.000000\n",
       "new_cases_per_million               0.000000\n",
       "total_deaths_per_million            0.000000\n",
       "new_deaths_per_million              0.000000\n",
       "new_tests                          40.444444\n",
       "total_tests                        37.777778\n",
       "total_tests_per_thousand           37.777778\n",
       "new_tests_per_thousand             40.444444\n",
       "new_tests_smoothed                 35.555556\n",
       "new_tests_smoothed_per_thousand    35.555556\n",
       "tests_per_case                     35.555556\n",
       "positive_rate                      35.555556\n",
       "tests_units                        32.444444\n",
       "stringency_index                    2.666667\n",
       "population                          0.000000\n",
       "population_density                  0.000000\n",
       "median_age                          0.000000\n",
       "aged_65_older                       0.000000\n",
       "aged_70_older                       0.000000\n",
       "gdp_per_capita                      0.000000\n",
       "extreme_poverty                     0.000000\n",
       "cardiovasc_death_rate               0.000000\n",
       "diabetes_prevalence                 0.000000\n",
       "female_smokers                      0.000000\n",
       "male_smokers                        0.000000\n",
       "handwashing_facilities              0.000000\n",
       "hospital_beds_per_thousand          0.000000\n",
       "life_expectancy                     0.000000\n",
       "dtype: float64"
      ]
     },
     "execution_count": 6,
     "metadata": {},
     "output_type": "execute_result"
    }
   ],
   "source": [
    "(df.isna().sum()/df.shape[0])*100"
   ]
  },
  {
   "cell_type": "code",
   "execution_count": 7,
   "metadata": {},
   "outputs": [
    {
     "data": {
      "text/plain": [
       "(225, 36)"
      ]
     },
     "execution_count": 7,
     "metadata": {},
     "output_type": "execute_result"
    }
   ],
   "source": [
    "col_list=df.columns.tolist()\n",
    "for m in range(0,36):\n",
    "    if ((df[col_list[m]].isna().sum()/df.shape[0])*100) > 50:\n",
    "        df.drop(col_name[m],axis=1)\n",
    "    else:\n",
    "        pass\n",
    "df.shape"
   ]
  },
  {
   "cell_type": "code",
   "execution_count": 8,
   "metadata": {
    "scrolled": true
   },
   "outputs": [
    {
     "data": {
      "text/plain": [
       "iso_code                             1\n",
       "continent                            1\n",
       "location                             1\n",
       "date                               225\n",
       "total_cases                        166\n",
       "new_cases                          159\n",
       "total_deaths                       147\n",
       "new_deaths                         131\n",
       "total_cases_per_million            164\n",
       "new_cases_per_million              157\n",
       "total_deaths_per_million           146\n",
       "new_deaths_per_million             124\n",
       "new_tests                          134\n",
       "total_tests                        140\n",
       "total_tests_per_thousand           137\n",
       "new_tests_per_thousand             106\n",
       "new_tests_smoothed                 144\n",
       "new_tests_smoothed_per_thousand    120\n",
       "tests_per_case                     143\n",
       "positive_rate                       70\n",
       "tests_units                          1\n",
       "stringency_index                    23\n",
       "population                           1\n",
       "population_density                   1\n",
       "median_age                           1\n",
       "aged_65_older                        1\n",
       "aged_70_older                        1\n",
       "gdp_per_capita                       1\n",
       "extreme_poverty                      1\n",
       "cardiovasc_death_rate                1\n",
       "diabetes_prevalence                  1\n",
       "female_smokers                       1\n",
       "male_smokers                         1\n",
       "handwashing_facilities               1\n",
       "hospital_beds_per_thousand           1\n",
       "life_expectancy                      1\n",
       "dtype: int64"
      ]
     },
     "execution_count": 8,
     "metadata": {},
     "output_type": "execute_result"
    }
   ],
   "source": [
    "df.nunique()              #To analyze ordinal and continuous numericals"
   ]
  },
  {
   "cell_type": "markdown",
   "metadata": {},
   "source": [
    "Replacing null values of continuous numerical columns with mean of respective columns"
   ]
  },
  {
   "cell_type": "code",
   "execution_count": 9,
   "metadata": {},
   "outputs": [],
   "source": [
    "df.fillna(df.mean(),inplace=True) # there are no ordinal numeric columns to fill with mode"
   ]
  },
  {
   "cell_type": "markdown",
   "metadata": {},
   "source": [
    "Replacing null values of categorical column with no comments<br/>\n",
    "Instead of mode, we used 'no comments' as this column had only one unique value other than null values initially<br/>\n",
    "This is more efficient than replacing null by mode as previously only one unique value was there and mode of that gives the same value"
   ]
  },
  {
   "cell_type": "code",
   "execution_count": 10,
   "metadata": {},
   "outputs": [],
   "source": [
    "df['tests_units'].fillna('no comments',inplace=True) "
   ]
  },
  {
   "cell_type": "code",
   "execution_count": 11,
   "metadata": {},
   "outputs": [
    {
     "data": {
      "text/plain": [
       "array(['no comments', 'samples tested'], dtype=object)"
      ]
     },
     "execution_count": 11,
     "metadata": {},
     "output_type": "execute_result"
    }
   ],
   "source": [
    "df['tests_units'].unique()   #now we have two unique values for this column"
   ]
  },
  {
   "cell_type": "code",
   "execution_count": 12,
   "metadata": {
    "scrolled": true
   },
   "outputs": [
    {
     "name": "stdout",
     "output_type": "stream",
     "text": [
      "<class 'pandas.core.frame.DataFrame'>\n",
      "Int64Index: 225 entries, 15577 to 15801\n",
      "Data columns (total 36 columns):\n",
      " #   Column                           Non-Null Count  Dtype  \n",
      "---  ------                           --------------  -----  \n",
      " 0   iso_code                         225 non-null    object \n",
      " 1   continent                        225 non-null    object \n",
      " 2   location                         225 non-null    object \n",
      " 3   date                             225 non-null    object \n",
      " 4   total_cases                      225 non-null    float64\n",
      " 5   new_cases                        225 non-null    float64\n",
      " 6   total_deaths                     225 non-null    float64\n",
      " 7   new_deaths                       225 non-null    float64\n",
      " 8   total_cases_per_million          225 non-null    float64\n",
      " 9   new_cases_per_million            225 non-null    float64\n",
      " 10  total_deaths_per_million         225 non-null    float64\n",
      " 11  new_deaths_per_million           225 non-null    float64\n",
      " 12  new_tests                        225 non-null    float64\n",
      " 13  total_tests                      225 non-null    float64\n",
      " 14  total_tests_per_thousand         225 non-null    float64\n",
      " 15  new_tests_per_thousand           225 non-null    float64\n",
      " 16  new_tests_smoothed               225 non-null    float64\n",
      " 17  new_tests_smoothed_per_thousand  225 non-null    float64\n",
      " 18  tests_per_case                   225 non-null    float64\n",
      " 19  positive_rate                    225 non-null    float64\n",
      " 20  tests_units                      225 non-null    object \n",
      " 21  stringency_index                 225 non-null    float64\n",
      " 22  population                       225 non-null    float64\n",
      " 23  population_density               225 non-null    float64\n",
      " 24  median_age                       225 non-null    float64\n",
      " 25  aged_65_older                    225 non-null    float64\n",
      " 26  aged_70_older                    225 non-null    float64\n",
      " 27  gdp_per_capita                   225 non-null    float64\n",
      " 28  extreme_poverty                  225 non-null    float64\n",
      " 29  cardiovasc_death_rate            225 non-null    float64\n",
      " 30  diabetes_prevalence              225 non-null    float64\n",
      " 31  female_smokers                   225 non-null    float64\n",
      " 32  male_smokers                     225 non-null    float64\n",
      " 33  handwashing_facilities           225 non-null    float64\n",
      " 34  hospital_beds_per_thousand       225 non-null    float64\n",
      " 35  life_expectancy                  225 non-null    float64\n",
      "dtypes: float64(31), object(5)\n",
      "memory usage: 65.0+ KB\n"
     ]
    }
   ],
   "source": [
    "df.info()"
   ]
  },
  {
   "cell_type": "markdown",
   "metadata": {},
   "source": [
    "# Univariate analysis"
   ]
  },
  {
   "cell_type": "markdown",
   "metadata": {},
   "source": [
    "Histograms of 10 features columns"
   ]
  },
  {
   "cell_type": "code",
   "execution_count": 13,
   "metadata": {},
   "outputs": [
    {
     "data": {
      "image/png": "[encoded data removed]",
      "text/plain": [
       "<Figure size 432x288 with 1 Axes>"
      ]
     },
     "metadata": {
      "needs_background": "light"
     },
     "output_type": "display_data"
    },
    {
     "data": {
      "image/png": "[encoded data removed]",
      "text/plain": [
       "<Figure size 432x288 with 1 Axes>"
      ]
     },
     "metadata": {
      "needs_background": "light"
     },
     "output_type": "display_data"
    },
    {
     "data": {
      "image/png": "[encoded data removed]",
      "text/plain": [
       "<Figure size 432x288 with 1 Axes>"
      ]
     },
     "metadata": {
      "needs_background": "light"
     },
     "output_type": "display_data"
    },
    {
     "data": {
      "image/png": "[encoded data removed]",
      "text/plain": [
       "<Figure size 432x288 with 1 Axes>"
      ]
     },
     "metadata": {
      "needs_background": "light"
     },
     "output_type": "display_data"
    },
    {
     "data": {
      "image/png": "[encoded data removed]",
      "text/plain": [
       "<Figure size 432x288 with 1 Axes>"
      ]
     },
     "metadata": {
      "needs_background": "light"
     },
     "output_type": "display_data"
    },
    {
     "data": {
      "image/png": "[encoded data removed]",
      "text/plain": [
       "<Figure size 432x288 with 1 Axes>"
      ]
     },
     "metadata": {
      "needs_background": "light"
     },
     "output_type": "display_data"
    },
    {
     "data": {
      "image/png": "[encoded data removed]",
      "text/plain": [
       "<Figure size 432x288 with 1 Axes>"
      ]
     },
     "metadata": {
      "needs_background": "light"
     },
     "output_type": "display_data"
    },
    {
     "data": {
      "image/png": "[encoded data removed]",
      "text/plain": [
       "<Figure size 432x288 with 1 Axes>"
      ]
     },
     "metadata": {
      "needs_background": "light"
     },
     "output_type": "display_data"
    },
    {
     "data": {
      "image/png": "[encoded data removed]",
      "text/plain": [
       "<Figure size 432x288 with 1 Axes>"
      ]
     },
     "metadata": {
      "needs_background": "light"
     },
     "output_type": "display_data"
    },
    {
     "data": {
      "image/png": "[encoded data removed]",
      "text/plain": [
       "<Figure size 432x288 with 1 Axes>"
      ]
     },
     "metadata": {
      "needs_background": "light"
     },
     "output_type": "display_data"
    },
    {
     "data": {
      "text/plain": [
       "<Figure size 432x288 with 0 Axes>"
      ]
     },
     "metadata": {},
     "output_type": "display_data"
    }
   ],
   "source": [
    "col_list=df.columns.tolist()\n",
    "for x in range(4,14):             #columns from 0 to 3 are object type\n",
    "    plt.hist(df[col_list[x]])\n",
    "    plt.title(col_list[x])       \n",
    "    plt.show()                    \n",
    "    plt.clf()  "
   ]
  },
  {
   "cell_type": "markdown",
   "metadata": {},
   "source": [
    "Mean, median, mode of each column"
   ]
  },
  {
   "cell_type": "code",
   "execution_count": 14,
   "metadata": {
    "scrolled": true
   },
   "outputs": [
    {
     "data": {
      "text/html": [
       "<div>\n",
       "<style scoped>\n",
       "    .dataframe tbody tr th:only-of-type {\n",
       "        vertical-align: middle;\n",
       "    }\n",
       "\n",
       "    .dataframe tbody tr th {\n",
       "        vertical-align: top;\n",
       "    }\n",
       "\n",
       "    .dataframe thead th {\n",
       "        text-align: right;\n",
       "    }\n",
       "</style>\n",
       "<table border=\"1\" class=\"dataframe\">\n",
       "  <thead>\n",
       "    <tr style=\"text-align: right;\">\n",
       "      <th></th>\n",
       "      <th>column_names</th>\n",
       "      <th>mean</th>\n",
       "      <th>median</th>\n",
       "      <th>mode</th>\n",
       "    </tr>\n",
       "  </thead>\n",
       "  <tbody>\n",
       "    <tr>\n",
       "      <th>0</th>\n",
       "      <td>total_cases</td>\n",
       "      <td>3.098122e+05</td>\n",
       "      <td>1.998400e+04</td>\n",
       "      <td>0</td>\n",
       "    </tr>\n",
       "    <tr>\n",
       "      <th>1</th>\n",
       "      <td>new_cases</td>\n",
       "      <td>1.035395e+04</td>\n",
       "      <td>1.396000e+03</td>\n",
       "      <td>0</td>\n",
       "    </tr>\n",
       "    <tr>\n",
       "      <th>2</th>\n",
       "      <td>total_deaths</td>\n",
       "      <td>7.603978e+03</td>\n",
       "      <td>6.400000e+02</td>\n",
       "      <td>0</td>\n",
       "    </tr>\n",
       "    <tr>\n",
       "      <th>3</th>\n",
       "      <td>new_deaths</td>\n",
       "      <td>2.048489e+02</td>\n",
       "      <td>4.300000e+01</td>\n",
       "      <td>0</td>\n",
       "    </tr>\n",
       "    <tr>\n",
       "      <th>4</th>\n",
       "      <td>total_cases_per_million</td>\n",
       "      <td>2.245008e+02</td>\n",
       "      <td>1.448100e+01</td>\n",
       "      <td>0</td>\n",
       "    </tr>\n",
       "    <tr>\n",
       "      <th>5</th>\n",
       "      <td>new_cases_per_million</td>\n",
       "      <td>7.502831e+00</td>\n",
       "      <td>1.012000e+00</td>\n",
       "      <td>0</td>\n",
       "    </tr>\n",
       "    <tr>\n",
       "      <th>6</th>\n",
       "      <td>total_deaths_per_million</td>\n",
       "      <td>5.510116e+00</td>\n",
       "      <td>4.640000e-01</td>\n",
       "      <td>0</td>\n",
       "    </tr>\n",
       "    <tr>\n",
       "      <th>7</th>\n",
       "      <td>new_deaths_per_million</td>\n",
       "      <td>1.484311e-01</td>\n",
       "      <td>3.100000e-02</td>\n",
       "      <td>0</td>\n",
       "    </tr>\n",
       "    <tr>\n",
       "      <th>8</th>\n",
       "      <td>new_tests</td>\n",
       "      <td>1.876639e+05</td>\n",
       "      <td>1.876639e+05</td>\n",
       "      <td>187664</td>\n",
       "    </tr>\n",
       "    <tr>\n",
       "      <th>9</th>\n",
       "      <td>total_tests</td>\n",
       "      <td>6.481009e+06</td>\n",
       "      <td>6.481009e+06</td>\n",
       "      <td>6.48101e+06</td>\n",
       "    </tr>\n",
       "    <tr>\n",
       "      <th>10</th>\n",
       "      <td>total_tests_per_thousand</td>\n",
       "      <td>4.696386e+00</td>\n",
       "      <td>4.696386e+00</td>\n",
       "      <td>4.69639</td>\n",
       "    </tr>\n",
       "    <tr>\n",
       "      <th>11</th>\n",
       "      <td>new_tests_per_thousand</td>\n",
       "      <td>1.360075e-01</td>\n",
       "      <td>1.360075e-01</td>\n",
       "      <td>0.136007</td>\n",
       "    </tr>\n",
       "    <tr>\n",
       "      <th>12</th>\n",
       "      <td>new_tests_smoothed</td>\n",
       "      <td>1.612897e+05</td>\n",
       "      <td>1.612897e+05</td>\n",
       "      <td>161290</td>\n",
       "    </tr>\n",
       "    <tr>\n",
       "      <th>13</th>\n",
       "      <td>new_tests_smoothed_per_thousand</td>\n",
       "      <td>1.168690e-01</td>\n",
       "      <td>1.168690e-01</td>\n",
       "      <td>0.116869</td>\n",
       "    </tr>\n",
       "    <tr>\n",
       "      <th>14</th>\n",
       "      <td>tests_per_case</td>\n",
       "      <td>1.798176e+01</td>\n",
       "      <td>1.798176e+01</td>\n",
       "      <td>17.9818</td>\n",
       "    </tr>\n",
       "    <tr>\n",
       "      <th>15</th>\n",
       "      <td>positive_rate</td>\n",
       "      <td>6.679310e-02</td>\n",
       "      <td>6.679310e-02</td>\n",
       "      <td>0.0667931</td>\n",
       "    </tr>\n",
       "    <tr>\n",
       "      <th>16</th>\n",
       "      <td>stringency_index</td>\n",
       "      <td>5.825808e+01</td>\n",
       "      <td>7.639000e+01</td>\n",
       "      <td>10.19</td>\n",
       "    </tr>\n",
       "    <tr>\n",
       "      <th>17</th>\n",
       "      <td>population</td>\n",
       "      <td>1.380004e+09</td>\n",
       "      <td>1.380004e+09</td>\n",
       "      <td>1.38e+09</td>\n",
       "    </tr>\n",
       "    <tr>\n",
       "      <th>18</th>\n",
       "      <td>population_density</td>\n",
       "      <td>4.504190e+02</td>\n",
       "      <td>4.504190e+02</td>\n",
       "      <td>450.419</td>\n",
       "    </tr>\n",
       "    <tr>\n",
       "      <th>19</th>\n",
       "      <td>median_age</td>\n",
       "      <td>2.820000e+01</td>\n",
       "      <td>2.820000e+01</td>\n",
       "      <td>28.2</td>\n",
       "    </tr>\n",
       "    <tr>\n",
       "      <th>20</th>\n",
       "      <td>aged_65_older</td>\n",
       "      <td>5.989000e+00</td>\n",
       "      <td>5.989000e+00</td>\n",
       "      <td>5.989</td>\n",
       "    </tr>\n",
       "    <tr>\n",
       "      <th>21</th>\n",
       "      <td>aged_70_older</td>\n",
       "      <td>3.414000e+00</td>\n",
       "      <td>3.414000e+00</td>\n",
       "      <td>3.414</td>\n",
       "    </tr>\n",
       "    <tr>\n",
       "      <th>22</th>\n",
       "      <td>gdp_per_capita</td>\n",
       "      <td>6.426674e+03</td>\n",
       "      <td>6.426674e+03</td>\n",
       "      <td>6426.67</td>\n",
       "    </tr>\n",
       "    <tr>\n",
       "      <th>23</th>\n",
       "      <td>extreme_poverty</td>\n",
       "      <td>2.120000e+01</td>\n",
       "      <td>2.120000e+01</td>\n",
       "      <td>21.2</td>\n",
       "    </tr>\n",
       "    <tr>\n",
       "      <th>24</th>\n",
       "      <td>cardiovasc_death_rate</td>\n",
       "      <td>2.822800e+02</td>\n",
       "      <td>2.822800e+02</td>\n",
       "      <td>282.28</td>\n",
       "    </tr>\n",
       "    <tr>\n",
       "      <th>25</th>\n",
       "      <td>diabetes_prevalence</td>\n",
       "      <td>1.039000e+01</td>\n",
       "      <td>1.039000e+01</td>\n",
       "      <td>10.39</td>\n",
       "    </tr>\n",
       "    <tr>\n",
       "      <th>26</th>\n",
       "      <td>female_smokers</td>\n",
       "      <td>1.900000e+00</td>\n",
       "      <td>1.900000e+00</td>\n",
       "      <td>1.9</td>\n",
       "    </tr>\n",
       "    <tr>\n",
       "      <th>27</th>\n",
       "      <td>male_smokers</td>\n",
       "      <td>2.060000e+01</td>\n",
       "      <td>2.060000e+01</td>\n",
       "      <td>20.6</td>\n",
       "    </tr>\n",
       "    <tr>\n",
       "      <th>28</th>\n",
       "      <td>handwashing_facilities</td>\n",
       "      <td>5.955000e+01</td>\n",
       "      <td>5.955000e+01</td>\n",
       "      <td>59.55</td>\n",
       "    </tr>\n",
       "    <tr>\n",
       "      <th>29</th>\n",
       "      <td>hospital_beds_per_thousand</td>\n",
       "      <td>5.300000e-01</td>\n",
       "      <td>5.300000e-01</td>\n",
       "      <td>0.53</td>\n",
       "    </tr>\n",
       "    <tr>\n",
       "      <th>30</th>\n",
       "      <td>life_expectancy</td>\n",
       "      <td>6.966000e+01</td>\n",
       "      <td>6.966000e+01</td>\n",
       "      <td>69.66</td>\n",
       "    </tr>\n",
       "    <tr>\n",
       "      <th>31</th>\n",
       "      <td>iso_code</td>\n",
       "      <td>NaN</td>\n",
       "      <td>NaN</td>\n",
       "      <td>IND</td>\n",
       "    </tr>\n",
       "    <tr>\n",
       "      <th>32</th>\n",
       "      <td>continent</td>\n",
       "      <td>NaN</td>\n",
       "      <td>NaN</td>\n",
       "      <td>Asia</td>\n",
       "    </tr>\n",
       "    <tr>\n",
       "      <th>33</th>\n",
       "      <td>location</td>\n",
       "      <td>NaN</td>\n",
       "      <td>NaN</td>\n",
       "      <td>India</td>\n",
       "    </tr>\n",
       "    <tr>\n",
       "      <th>34</th>\n",
       "      <td>date</td>\n",
       "      <td>NaN</td>\n",
       "      <td>NaN</td>\n",
       "      <td>NaN</td>\n",
       "    </tr>\n",
       "    <tr>\n",
       "      <th>35</th>\n",
       "      <td>tests_units</td>\n",
       "      <td>NaN</td>\n",
       "      <td>NaN</td>\n",
       "      <td>samples tested</td>\n",
       "    </tr>\n",
       "  </tbody>\n",
       "</table>\n",
       "</div>"
      ],
      "text/plain": [
       "                       column_names          mean        median  \\\n",
       "0                       total_cases  3.098122e+05  1.998400e+04   \n",
       "1                         new_cases  1.035395e+04  1.396000e+03   \n",
       "2                      total_deaths  7.603978e+03  6.400000e+02   \n",
       "3                        new_deaths  2.048489e+02  4.300000e+01   \n",
       "4           total_cases_per_million  2.245008e+02  1.448100e+01   \n",
       "5             new_cases_per_million  7.502831e+00  1.012000e+00   \n",
       "6          total_deaths_per_million  5.510116e+00  4.640000e-01   \n",
       "7            new_deaths_per_million  1.484311e-01  3.100000e-02   \n",
       "8                         new_tests  1.876639e+05  1.876639e+05   \n",
       "9                       total_tests  6.481009e+06  6.481009e+06   \n",
       "10         total_tests_per_thousand  4.696386e+00  4.696386e+00   \n",
       "11           new_tests_per_thousand  1.360075e-01  1.360075e-01   \n",
       "12               new_tests_smoothed  1.612897e+05  1.612897e+05   \n",
       "13  new_tests_smoothed_per_thousand  1.168690e-01  1.168690e-01   \n",
       "14                   tests_per_case  1.798176e+01  1.798176e+01   \n",
       "15                    positive_rate  6.679310e-02  6.679310e-02   \n",
       "16                 stringency_index  5.825808e+01  7.639000e+01   \n",
       "17                       population  1.380004e+09  1.380004e+09   \n",
       "18               population_density  4.504190e+02  4.504190e+02   \n",
       "19                       median_age  2.820000e+01  2.820000e+01   \n",
       "20                    aged_65_older  5.989000e+00  5.989000e+00   \n",
       "21                    aged_70_older  3.414000e+00  3.414000e+00   \n",
       "22                   gdp_per_capita  6.426674e+03  6.426674e+03   \n",
       "23                  extreme_poverty  2.120000e+01  2.120000e+01   \n",
       "24            cardiovasc_death_rate  2.822800e+02  2.822800e+02   \n",
       "25              diabetes_prevalence  1.039000e+01  1.039000e+01   \n",
       "26                   female_smokers  1.900000e+00  1.900000e+00   \n",
       "27                     male_smokers  2.060000e+01  2.060000e+01   \n",
       "28           handwashing_facilities  5.955000e+01  5.955000e+01   \n",
       "29       hospital_beds_per_thousand  5.300000e-01  5.300000e-01   \n",
       "30                  life_expectancy  6.966000e+01  6.966000e+01   \n",
       "31                         iso_code           NaN           NaN   \n",
       "32                        continent           NaN           NaN   \n",
       "33                         location           NaN           NaN   \n",
       "34                             date           NaN           NaN   \n",
       "35                      tests_units           NaN           NaN   \n",
       "\n",
       "              mode  \n",
       "0                0  \n",
       "1                0  \n",
       "2                0  \n",
       "3                0  \n",
       "4                0  \n",
       "5                0  \n",
       "6                0  \n",
       "7                0  \n",
       "8           187664  \n",
       "9      6.48101e+06  \n",
       "10         4.69639  \n",
       "11        0.136007  \n",
       "12          161290  \n",
       "13        0.116869  \n",
       "14         17.9818  \n",
       "15       0.0667931  \n",
       "16           10.19  \n",
       "17        1.38e+09  \n",
       "18         450.419  \n",
       "19            28.2  \n",
       "20           5.989  \n",
       "21           3.414  \n",
       "22         6426.67  \n",
       "23            21.2  \n",
       "24          282.28  \n",
       "25           10.39  \n",
       "26             1.9  \n",
       "27            20.6  \n",
       "28           59.55  \n",
       "29            0.53  \n",
       "30           69.66  \n",
       "31             IND  \n",
       "32            Asia  \n",
       "33           India  \n",
       "34             NaN  \n",
       "35  samples tested  "
      ]
     },
     "execution_count": 14,
     "metadata": {},
     "output_type": "execute_result"
    }
   ],
   "source": [
    "dff=df.select_dtypes(include ='float64')     #float type can have mean, median, mode\n",
    "dfo=df.select_dtypes(include ='object')      #object type cannot have mean, median\n",
    "dff_col_list=dff.columns.tolist()\n",
    "dfo_col_list=dfo.columns.tolist()\n",
    "names=[]\n",
    "mean=[]\n",
    "median=[]\n",
    "mode=[]\n",
    "for k in range(0,dff.shape[1]):       #there are 31 numeric(float) type columns\n",
    "    names.append(dff_col_list[k])\n",
    "    mean.append(dff[dff_col_list[k]].mean())\n",
    "    median.append(dff[dff_col_list[k]].median())\n",
    "    mode.append(dff[dff_col_list[k]].mode()[0])\n",
    "for j in range(0,dfo.shape[1]):        #there are 5 string(object) type columns\n",
    "    names.append(dfo_col_list[j])\n",
    "    mean.append(np.nan)\n",
    "    median.append(np.nan)\n",
    "    if dfo_col_list[j] == \"date\":      #date has no mean, median, mode\n",
    "        mode.append(np.nan)\n",
    "    else:\n",
    "        mode.append(dfo[dfo_col_list[j]].mode()[0])\n",
    "data={'column_names':names, 'mean':mean, 'median' :median, 'mode' :mode}\n",
    "m_df= pd.DataFrame(data)\n",
    "m_df"
   ]
  },
  {
   "cell_type": "markdown",
   "metadata": {},
   "source": [
    "# Bivariate analysis"
   ]
  },
  {
   "cell_type": "markdown",
   "metadata": {},
   "source": [
    "Scatter plots of any 10 features versus total_cases(target column)"
   ]
  },
  {
   "cell_type": "code",
   "execution_count": 15,
   "metadata": {},
   "outputs": [
    {
     "data": {
      "image/png": "[encoded data removed]",
      "text/plain": [
       "<Figure size 432x288 with 1 Axes>"
      ]
     },
     "metadata": {
      "needs_background": "light"
     },
     "output_type": "display_data"
    },
    {
     "data": {
      "image/png": "[encoded data removed]",
      "text/plain": [
       "<Figure size 432x288 with 1 Axes>"
      ]
     },
     "metadata": {
      "needs_background": "light"
     },
     "output_type": "display_data"
    },
    {
     "data": {
      "image/png": "[encoded data removed]",
      "text/plain": [
       "<Figure size 432x288 with 1 Axes>"
      ]
     },
     "metadata": {
      "needs_background": "light"
     },
     "output_type": "display_data"
    },
    {
     "data": {
      "image/png": "[encoded data removed]",
      "text/plain": [
       "<Figure size 432x288 with 1 Axes>"
      ]
     },
     "metadata": {
      "needs_background": "light"
     },
     "output_type": "display_data"
    },
    {
     "data": {
      "image/png": "[encoded data removed]",
      "text/plain": [
       "<Figure size 432x288 with 1 Axes>"
      ]
     },
     "metadata": {
      "needs_background": "light"
     },
     "output_type": "display_data"
    },
    {
     "data": {
      "image/png": "[encoded data removed]",
      "text/plain": [
       "<Figure size 432x288 with 1 Axes>"
      ]
     },
     "metadata": {
      "needs_background": "light"
     },
     "output_type": "display_data"
    },
    {
     "data": {
      "image/png": "[encoded data removed]",
      "text/plain": [
       "<Figure size 432x288 with 1 Axes>"
      ]
     },
     "metadata": {
      "needs_background": "light"
     },
     "output_type": "display_data"
    },
    {
     "data": {
      "image/png": "[encoded data removed]",
      "text/plain": [
       "<Figure size 432x288 with 1 Axes>"
      ]
     },
     "metadata": {
      "needs_background": "light"
     },
     "output_type": "display_data"
    },
    {
     "data": {
      "image/png": "[encoded data removed]",
      "text/plain": [
       "<Figure size 432x288 with 1 Axes>"
      ]
     },
     "metadata": {
      "needs_background": "light"
     },
     "output_type": "display_data"
    },
    {
     "data": {
      "image/png": "[encoded data removed]",
      "text/plain": [
       "<Figure size 432x288 with 1 Axes>"
      ]
     },
     "metadata": {
      "needs_background": "light"
     },
     "output_type": "display_data"
    },
    {
     "data": {
      "text/plain": [
       "<Figure size 432x288 with 0 Axes>"
      ]
     },
     "metadata": {},
     "output_type": "display_data"
    }
   ],
   "source": [
    "col_list=df.columns.tolist()\n",
    "for x in range(5,15):    #first 4 columns are object type and 5th column is considered as target column\n",
    "    plt.scatter(df[col_list[x]],df['total_cases'])\n",
    "    plt.title('scatter plot for {} vs total_cases'.format(col_list[x]))\n",
    "    plt.xlabel(col_list[x])\n",
    "    plt.ylabel('total_cases')\n",
    "    plt.show()\n",
    "    plt.clf()"
   ]
  },
  {
   "cell_type": "markdown",
   "metadata": {},
   "source": [
    "Line plots of any 10 feature versus total_cases(target column)"
   ]
  },
  {
   "cell_type": "code",
   "execution_count": 16,
   "metadata": {
    "scrolled": true
   },
   "outputs": [
    {
     "data": {
      "image/png": "[encoded data removed]",
      "text/plain": [
       "<Figure size 432x288 with 1 Axes>"
      ]
     },
     "metadata": {
      "needs_background": "light"
     },
     "output_type": "display_data"
    },
    {
     "data": {
      "image/png": "[encoded data removed]",
      "text/plain": [
       "<Figure size 432x288 with 1 Axes>"
      ]
     },
     "metadata": {
      "needs_background": "light"
     },
     "output_type": "display_data"
    },
    {
     "data": {
      "image/png": "[encoded data removed]",
      "text/plain": [
       "<Figure size 432x288 with 1 Axes>"
      ]
     },
     "metadata": {
      "needs_background": "light"
     },
     "output_type": "display_data"
    },
    {
     "data": {
      "image/png": "[encoded data removed]",
      "text/plain": [
       "<Figure size 432x288 with 1 Axes>"
      ]
     },
     "metadata": {
      "needs_background": "light"
     },
     "output_type": "display_data"
    },
    {
     "data": {
      "image/png": "[encoded data removed]",
      "text/plain": [
       "<Figure size 432x288 with 1 Axes>"
      ]
     },
     "metadata": {
      "needs_background": "light"
     },
     "output_type": "display_data"
    },
    {
     "data": {
      "image/png": "[encoded data removed]",
      "text/plain": [
       "<Figure size 432x288 with 1 Axes>"
      ]
     },
     "metadata": {
      "needs_background": "light"
     },
     "output_type": "display_data"
    },
    {
     "data": {
      "image/png": "[encoded data removed]",
      "text/plain": [
       "<Figure size 432x288 with 1 Axes>"
      ]
     },
     "metadata": {
      "needs_background": "light"
     },
     "output_type": "display_data"
    },
    {
     "data": {
      "image/png": "[encoded data removed]",
      "text/plain": [
       "<Figure size 432x288 with 1 Axes>"
      ]
     },
     "metadata": {
      "needs_background": "light"
     },
     "output_type": "display_data"
    },
    {
     "data": {
      "image/png": "[encoded data removed]",
      "text/plain": [
       "<Figure size 432x288 with 1 Axes>"
      ]
     },
     "metadata": {
      "needs_background": "light"
     },
     "output_type": "display_data"
    },
    {
     "data": {
      "image/png": "[encoded data removed]",
      "text/plain": [
       "<Figure size 432x288 with 1 Axes>"
      ]
     },
     "metadata": {
      "needs_background": "light"
     },
     "output_type": "display_data"
    },
    {
     "data": {
      "text/plain": [
       "<Figure size 432x288 with 0 Axes>"
      ]
     },
     "metadata": {},
     "output_type": "display_data"
    }
   ],
   "source": [
    "col_list=df.columns.tolist()\n",
    "for x in range(5,15):  #first 4 columns are object type and 5th column is considered as target column\n",
    "    plt.plot(df[col_list[x]],df['total_cases'])\n",
    "    plt.title('line plot for {} vs total_cases'.format(col_list[x]))\n",
    "    plt.xlabel(col_list[x])\n",
    "    plt.ylabel('total_cases')\n",
    "    plt.show()\n",
    "    plt.clf()"
   ]
  },
  {
   "cell_type": "markdown",
   "metadata": {},
   "source": [
    "# Converting date column to ordinal"
   ]
  },
  {
   "cell_type": "code",
   "execution_count": 17,
   "metadata": {},
   "outputs": [],
   "source": [
    "import datetime as dt\n",
    "df[\"date\"]=pd.to_datetime(df[\"date\"])\n",
    "df[\"date\"]=df[\"date\"].map(dt.datetime.toordinal)"
   ]
  },
  {
   "cell_type": "markdown",
   "metadata": {},
   "source": [
    "# Converting useful categorical columns to numericals"
   ]
  },
  {
   "cell_type": "code",
   "execution_count": 18,
   "metadata": {},
   "outputs": [
    {
     "data": {
      "text/html": [
       "<div>\n",
       "<style scoped>\n",
       "    .dataframe tbody tr th:only-of-type {\n",
       "        vertical-align: middle;\n",
       "    }\n",
       "\n",
       "    .dataframe tbody tr th {\n",
       "        vertical-align: top;\n",
       "    }\n",
       "\n",
       "    .dataframe thead th {\n",
       "        text-align: right;\n",
       "    }\n",
       "</style>\n",
       "<table border=\"1\" class=\"dataframe\">\n",
       "  <thead>\n",
       "    <tr style=\"text-align: right;\">\n",
       "      <th></th>\n",
       "      <th>iso_code</th>\n",
       "      <th>continent</th>\n",
       "      <th>location</th>\n",
       "      <th>date</th>\n",
       "      <th>tests_units</th>\n",
       "    </tr>\n",
       "  </thead>\n",
       "  <tbody>\n",
       "    <tr>\n",
       "      <th>15577</th>\n",
       "      <td>IND</td>\n",
       "      <td>Asia</td>\n",
       "      <td>India</td>\n",
       "      <td>2019-12-31</td>\n",
       "      <td>no comments</td>\n",
       "    </tr>\n",
       "    <tr>\n",
       "      <th>15578</th>\n",
       "      <td>IND</td>\n",
       "      <td>Asia</td>\n",
       "      <td>India</td>\n",
       "      <td>2020-01-01</td>\n",
       "      <td>no comments</td>\n",
       "    </tr>\n",
       "    <tr>\n",
       "      <th>15579</th>\n",
       "      <td>IND</td>\n",
       "      <td>Asia</td>\n",
       "      <td>India</td>\n",
       "      <td>2020-01-02</td>\n",
       "      <td>no comments</td>\n",
       "    </tr>\n",
       "    <tr>\n",
       "      <th>15580</th>\n",
       "      <td>IND</td>\n",
       "      <td>Asia</td>\n",
       "      <td>India</td>\n",
       "      <td>2020-01-03</td>\n",
       "      <td>no comments</td>\n",
       "    </tr>\n",
       "    <tr>\n",
       "      <th>15581</th>\n",
       "      <td>IND</td>\n",
       "      <td>Asia</td>\n",
       "      <td>India</td>\n",
       "      <td>2020-01-04</td>\n",
       "      <td>no comments</td>\n",
       "    </tr>\n",
       "  </tbody>\n",
       "</table>\n",
       "</div>"
      ],
      "text/plain": [
       "      iso_code continent location        date  tests_units\n",
       "15577      IND      Asia    India  2019-12-31  no comments\n",
       "15578      IND      Asia    India  2020-01-01  no comments\n",
       "15579      IND      Asia    India  2020-01-02  no comments\n",
       "15580      IND      Asia    India  2020-01-03  no comments\n",
       "15581      IND      Asia    India  2020-01-04  no comments"
      ]
     },
     "execution_count": 18,
     "metadata": {},
     "output_type": "execute_result"
    }
   ],
   "source": [
    "dfo.head()  #object type columns"
   ]
  },
  {
   "cell_type": "markdown",
   "metadata": {},
   "source": [
    "Dropping useless categorical columns"
   ]
  },
  {
   "cell_type": "code",
   "execution_count": 19,
   "metadata": {},
   "outputs": [],
   "source": [
    "df1=df.drop([\"iso_code\",\"continent\"],axis=1) #for calculating target its enough if we know the country. Continent and ISO-code can be founds from that itself"
   ]
  },
  {
   "cell_type": "markdown",
   "metadata": {},
   "source": [
    "Converting useful categorical columns to numericals by LabelEncoder"
   ]
  },
  {
   "cell_type": "code",
   "execution_count": 20,
   "metadata": {},
   "outputs": [],
   "source": [
    "from sklearn.preprocessing import LabelEncoder\n",
    "labelEncoder=LabelEncoder()"
   ]
  },
  {
   "cell_type": "code",
   "execution_count": 21,
   "metadata": {},
   "outputs": [],
   "source": [
    "labelEncoder.fit(df1[\"tests_units\"])\n",
    "df1[\"tests_units\"]=labelEncoder.transform(df1[\"tests_units\"])"
   ]
  },
  {
   "cell_type": "code",
   "execution_count": 22,
   "metadata": {},
   "outputs": [],
   "source": [
    "labelEncoder.fit(df1[\"location\"])\n",
    "df1[\"location\"]=labelEncoder.transform(df1[\"location\"])"
   ]
  },
  {
   "cell_type": "code",
   "execution_count": 23,
   "metadata": {
    "scrolled": true
   },
   "outputs": [
    {
     "data": {
      "text/html": [
       "<div>\n",
       "<style scoped>\n",
       "    .dataframe tbody tr th:only-of-type {\n",
       "        vertical-align: middle;\n",
       "    }\n",
       "\n",
       "    .dataframe tbody tr th {\n",
       "        vertical-align: top;\n",
       "    }\n",
       "\n",
       "    .dataframe thead th {\n",
       "        text-align: right;\n",
       "    }\n",
       "</style>\n",
       "<table border=\"1\" class=\"dataframe\">\n",
       "  <thead>\n",
       "    <tr style=\"text-align: right;\">\n",
       "      <th></th>\n",
       "      <th>location</th>\n",
       "      <th>date</th>\n",
       "      <th>total_cases</th>\n",
       "      <th>new_cases</th>\n",
       "      <th>total_deaths</th>\n",
       "      <th>new_deaths</th>\n",
       "      <th>total_cases_per_million</th>\n",
       "      <th>new_cases_per_million</th>\n",
       "      <th>total_deaths_per_million</th>\n",
       "      <th>new_deaths_per_million</th>\n",
       "      <th>...</th>\n",
       "      <th>aged_70_older</th>\n",
       "      <th>gdp_per_capita</th>\n",
       "      <th>extreme_poverty</th>\n",
       "      <th>cardiovasc_death_rate</th>\n",
       "      <th>diabetes_prevalence</th>\n",
       "      <th>female_smokers</th>\n",
       "      <th>male_smokers</th>\n",
       "      <th>handwashing_facilities</th>\n",
       "      <th>hospital_beds_per_thousand</th>\n",
       "      <th>life_expectancy</th>\n",
       "    </tr>\n",
       "  </thead>\n",
       "  <tbody>\n",
       "    <tr>\n",
       "      <th>15577</th>\n",
       "      <td>0</td>\n",
       "      <td>737424</td>\n",
       "      <td>0.0</td>\n",
       "      <td>0.0</td>\n",
       "      <td>0.0</td>\n",
       "      <td>0.0</td>\n",
       "      <td>0.000</td>\n",
       "      <td>0.000</td>\n",
       "      <td>0.000</td>\n",
       "      <td>0.000</td>\n",
       "      <td>...</td>\n",
       "      <td>3.414</td>\n",
       "      <td>6426.674</td>\n",
       "      <td>21.2</td>\n",
       "      <td>282.28</td>\n",
       "      <td>10.39</td>\n",
       "      <td>1.9</td>\n",
       "      <td>20.6</td>\n",
       "      <td>59.55</td>\n",
       "      <td>0.53</td>\n",
       "      <td>69.66</td>\n",
       "    </tr>\n",
       "    <tr>\n",
       "      <th>15578</th>\n",
       "      <td>0</td>\n",
       "      <td>737425</td>\n",
       "      <td>0.0</td>\n",
       "      <td>0.0</td>\n",
       "      <td>0.0</td>\n",
       "      <td>0.0</td>\n",
       "      <td>0.000</td>\n",
       "      <td>0.000</td>\n",
       "      <td>0.000</td>\n",
       "      <td>0.000</td>\n",
       "      <td>...</td>\n",
       "      <td>3.414</td>\n",
       "      <td>6426.674</td>\n",
       "      <td>21.2</td>\n",
       "      <td>282.28</td>\n",
       "      <td>10.39</td>\n",
       "      <td>1.9</td>\n",
       "      <td>20.6</td>\n",
       "      <td>59.55</td>\n",
       "      <td>0.53</td>\n",
       "      <td>69.66</td>\n",
       "    </tr>\n",
       "    <tr>\n",
       "      <th>15579</th>\n",
       "      <td>0</td>\n",
       "      <td>737426</td>\n",
       "      <td>0.0</td>\n",
       "      <td>0.0</td>\n",
       "      <td>0.0</td>\n",
       "      <td>0.0</td>\n",
       "      <td>0.000</td>\n",
       "      <td>0.000</td>\n",
       "      <td>0.000</td>\n",
       "      <td>0.000</td>\n",
       "      <td>...</td>\n",
       "      <td>3.414</td>\n",
       "      <td>6426.674</td>\n",
       "      <td>21.2</td>\n",
       "      <td>282.28</td>\n",
       "      <td>10.39</td>\n",
       "      <td>1.9</td>\n",
       "      <td>20.6</td>\n",
       "      <td>59.55</td>\n",
       "      <td>0.53</td>\n",
       "      <td>69.66</td>\n",
       "    </tr>\n",
       "    <tr>\n",
       "      <th>15580</th>\n",
       "      <td>0</td>\n",
       "      <td>737427</td>\n",
       "      <td>0.0</td>\n",
       "      <td>0.0</td>\n",
       "      <td>0.0</td>\n",
       "      <td>0.0</td>\n",
       "      <td>0.000</td>\n",
       "      <td>0.000</td>\n",
       "      <td>0.000</td>\n",
       "      <td>0.000</td>\n",
       "      <td>...</td>\n",
       "      <td>3.414</td>\n",
       "      <td>6426.674</td>\n",
       "      <td>21.2</td>\n",
       "      <td>282.28</td>\n",
       "      <td>10.39</td>\n",
       "      <td>1.9</td>\n",
       "      <td>20.6</td>\n",
       "      <td>59.55</td>\n",
       "      <td>0.53</td>\n",
       "      <td>69.66</td>\n",
       "    </tr>\n",
       "    <tr>\n",
       "      <th>15581</th>\n",
       "      <td>0</td>\n",
       "      <td>737428</td>\n",
       "      <td>0.0</td>\n",
       "      <td>0.0</td>\n",
       "      <td>0.0</td>\n",
       "      <td>0.0</td>\n",
       "      <td>0.000</td>\n",
       "      <td>0.000</td>\n",
       "      <td>0.000</td>\n",
       "      <td>0.000</td>\n",
       "      <td>...</td>\n",
       "      <td>3.414</td>\n",
       "      <td>6426.674</td>\n",
       "      <td>21.2</td>\n",
       "      <td>282.28</td>\n",
       "      <td>10.39</td>\n",
       "      <td>1.9</td>\n",
       "      <td>20.6</td>\n",
       "      <td>59.55</td>\n",
       "      <td>0.53</td>\n",
       "      <td>69.66</td>\n",
       "    </tr>\n",
       "    <tr>\n",
       "      <th>...</th>\n",
       "      <td>...</td>\n",
       "      <td>...</td>\n",
       "      <td>...</td>\n",
       "      <td>...</td>\n",
       "      <td>...</td>\n",
       "      <td>...</td>\n",
       "      <td>...</td>\n",
       "      <td>...</td>\n",
       "      <td>...</td>\n",
       "      <td>...</td>\n",
       "      <td>...</td>\n",
       "      <td>...</td>\n",
       "      <td>...</td>\n",
       "      <td>...</td>\n",
       "      <td>...</td>\n",
       "      <td>...</td>\n",
       "      <td>...</td>\n",
       "      <td>...</td>\n",
       "      <td>...</td>\n",
       "      <td>...</td>\n",
       "      <td>...</td>\n",
       "    </tr>\n",
       "    <tr>\n",
       "      <th>15797</th>\n",
       "      <td>0</td>\n",
       "      <td>737645</td>\n",
       "      <td>2088611.0</td>\n",
       "      <td>61537.0</td>\n",
       "      <td>42518.0</td>\n",
       "      <td>933.0</td>\n",
       "      <td>1513.481</td>\n",
       "      <td>44.592</td>\n",
       "      <td>30.810</td>\n",
       "      <td>0.676</td>\n",
       "      <td>...</td>\n",
       "      <td>3.414</td>\n",
       "      <td>6426.674</td>\n",
       "      <td>21.2</td>\n",
       "      <td>282.28</td>\n",
       "      <td>10.39</td>\n",
       "      <td>1.9</td>\n",
       "      <td>20.6</td>\n",
       "      <td>59.55</td>\n",
       "      <td>0.53</td>\n",
       "      <td>69.66</td>\n",
       "    </tr>\n",
       "    <tr>\n",
       "      <th>15798</th>\n",
       "      <td>0</td>\n",
       "      <td>737646</td>\n",
       "      <td>2153010.0</td>\n",
       "      <td>64399.0</td>\n",
       "      <td>43379.0</td>\n",
       "      <td>861.0</td>\n",
       "      <td>1560.147</td>\n",
       "      <td>46.666</td>\n",
       "      <td>31.434</td>\n",
       "      <td>0.624</td>\n",
       "      <td>...</td>\n",
       "      <td>3.414</td>\n",
       "      <td>6426.674</td>\n",
       "      <td>21.2</td>\n",
       "      <td>282.28</td>\n",
       "      <td>10.39</td>\n",
       "      <td>1.9</td>\n",
       "      <td>20.6</td>\n",
       "      <td>59.55</td>\n",
       "      <td>0.53</td>\n",
       "      <td>69.66</td>\n",
       "    </tr>\n",
       "    <tr>\n",
       "      <th>15799</th>\n",
       "      <td>0</td>\n",
       "      <td>737647</td>\n",
       "      <td>2215074.0</td>\n",
       "      <td>62064.0</td>\n",
       "      <td>44386.0</td>\n",
       "      <td>1007.0</td>\n",
       "      <td>1605.121</td>\n",
       "      <td>44.974</td>\n",
       "      <td>32.164</td>\n",
       "      <td>0.730</td>\n",
       "      <td>...</td>\n",
       "      <td>3.414</td>\n",
       "      <td>6426.674</td>\n",
       "      <td>21.2</td>\n",
       "      <td>282.28</td>\n",
       "      <td>10.39</td>\n",
       "      <td>1.9</td>\n",
       "      <td>20.6</td>\n",
       "      <td>59.55</td>\n",
       "      <td>0.53</td>\n",
       "      <td>69.66</td>\n",
       "    </tr>\n",
       "    <tr>\n",
       "      <th>15800</th>\n",
       "      <td>0</td>\n",
       "      <td>737648</td>\n",
       "      <td>2268675.0</td>\n",
       "      <td>53601.0</td>\n",
       "      <td>45257.0</td>\n",
       "      <td>871.0</td>\n",
       "      <td>1643.962</td>\n",
       "      <td>38.841</td>\n",
       "      <td>32.795</td>\n",
       "      <td>0.631</td>\n",
       "      <td>...</td>\n",
       "      <td>3.414</td>\n",
       "      <td>6426.674</td>\n",
       "      <td>21.2</td>\n",
       "      <td>282.28</td>\n",
       "      <td>10.39</td>\n",
       "      <td>1.9</td>\n",
       "      <td>20.6</td>\n",
       "      <td>59.55</td>\n",
       "      <td>0.53</td>\n",
       "      <td>69.66</td>\n",
       "    </tr>\n",
       "    <tr>\n",
       "      <th>15801</th>\n",
       "      <td>0</td>\n",
       "      <td>737649</td>\n",
       "      <td>2329638.0</td>\n",
       "      <td>60963.0</td>\n",
       "      <td>46091.0</td>\n",
       "      <td>834.0</td>\n",
       "      <td>1688.138</td>\n",
       "      <td>44.176</td>\n",
       "      <td>33.399</td>\n",
       "      <td>0.604</td>\n",
       "      <td>...</td>\n",
       "      <td>3.414</td>\n",
       "      <td>6426.674</td>\n",
       "      <td>21.2</td>\n",
       "      <td>282.28</td>\n",
       "      <td>10.39</td>\n",
       "      <td>1.9</td>\n",
       "      <td>20.6</td>\n",
       "      <td>59.55</td>\n",
       "      <td>0.53</td>\n",
       "      <td>69.66</td>\n",
       "    </tr>\n",
       "  </tbody>\n",
       "</table>\n",
       "<p>225 rows × 34 columns</p>\n",
       "</div>"
      ],
      "text/plain": [
       "       location    date  total_cases  new_cases  total_deaths  new_deaths  \\\n",
       "15577         0  737424          0.0        0.0           0.0         0.0   \n",
       "15578         0  737425          0.0        0.0           0.0         0.0   \n",
       "15579         0  737426          0.0        0.0           0.0         0.0   \n",
       "15580         0  737427          0.0        0.0           0.0         0.0   \n",
       "15581         0  737428          0.0        0.0           0.0         0.0   \n",
       "...         ...     ...          ...        ...           ...         ...   \n",
       "15797         0  737645    2088611.0    61537.0       42518.0       933.0   \n",
       "15798         0  737646    2153010.0    64399.0       43379.0       861.0   \n",
       "15799         0  737647    2215074.0    62064.0       44386.0      1007.0   \n",
       "15800         0  737648    2268675.0    53601.0       45257.0       871.0   \n",
       "15801         0  737649    2329638.0    60963.0       46091.0       834.0   \n",
       "\n",
       "       total_cases_per_million  new_cases_per_million  \\\n",
       "15577                    0.000                  0.000   \n",
       "15578                    0.000                  0.000   \n",
       "15579                    0.000                  0.000   \n",
       "15580                    0.000                  0.000   \n",
       "15581                    0.000                  0.000   \n",
       "...                        ...                    ...   \n",
       "15797                 1513.481                 44.592   \n",
       "15798                 1560.147                 46.666   \n",
       "15799                 1605.121                 44.974   \n",
       "15800                 1643.962                 38.841   \n",
       "15801                 1688.138                 44.176   \n",
       "\n",
       "       total_deaths_per_million  new_deaths_per_million  ...  aged_70_older  \\\n",
       "15577                     0.000                   0.000  ...          3.414   \n",
       "15578                     0.000                   0.000  ...          3.414   \n",
       "15579                     0.000                   0.000  ...          3.414   \n",
       "15580                     0.000                   0.000  ...          3.414   \n",
       "15581                     0.000                   0.000  ...          3.414   \n",
       "...                         ...                     ...  ...            ...   \n",
       "15797                    30.810                   0.676  ...          3.414   \n",
       "15798                    31.434                   0.624  ...          3.414   \n",
       "15799                    32.164                   0.730  ...          3.414   \n",
       "15800                    32.795                   0.631  ...          3.414   \n",
       "15801                    33.399                   0.604  ...          3.414   \n",
       "\n",
       "       gdp_per_capita  extreme_poverty  cardiovasc_death_rate  \\\n",
       "15577        6426.674             21.2                 282.28   \n",
       "15578        6426.674             21.2                 282.28   \n",
       "15579        6426.674             21.2                 282.28   \n",
       "15580        6426.674             21.2                 282.28   \n",
       "15581        6426.674             21.2                 282.28   \n",
       "...               ...              ...                    ...   \n",
       "15797        6426.674             21.2                 282.28   \n",
       "15798        6426.674             21.2                 282.28   \n",
       "15799        6426.674             21.2                 282.28   \n",
       "15800        6426.674             21.2                 282.28   \n",
       "15801        6426.674             21.2                 282.28   \n",
       "\n",
       "       diabetes_prevalence  female_smokers  male_smokers  \\\n",
       "15577                10.39             1.9          20.6   \n",
       "15578                10.39             1.9          20.6   \n",
       "15579                10.39             1.9          20.6   \n",
       "15580                10.39             1.9          20.6   \n",
       "15581                10.39             1.9          20.6   \n",
       "...                    ...             ...           ...   \n",
       "15797                10.39             1.9          20.6   \n",
       "15798                10.39             1.9          20.6   \n",
       "15799                10.39             1.9          20.6   \n",
       "15800                10.39             1.9          20.6   \n",
       "15801                10.39             1.9          20.6   \n",
       "\n",
       "       handwashing_facilities  hospital_beds_per_thousand  life_expectancy  \n",
       "15577                   59.55                        0.53            69.66  \n",
       "15578                   59.55                        0.53            69.66  \n",
       "15579                   59.55                        0.53            69.66  \n",
       "15580                   59.55                        0.53            69.66  \n",
       "15581                   59.55                        0.53            69.66  \n",
       "...                       ...                         ...              ...  \n",
       "15797                   59.55                        0.53            69.66  \n",
       "15798                   59.55                        0.53            69.66  \n",
       "15799                   59.55                        0.53            69.66  \n",
       "15800                   59.55                        0.53            69.66  \n",
       "15801                   59.55                        0.53            69.66  \n",
       "\n",
       "[225 rows x 34 columns]"
      ]
     },
     "execution_count": 23,
     "metadata": {},
     "output_type": "execute_result"
    }
   ],
   "source": [
    "df1"
   ]
  },
  {
   "cell_type": "markdown",
   "metadata": {},
   "source": [
    "Analysis for new data "
   ]
  },
  {
   "cell_type": "code",
   "execution_count": 24,
   "metadata": {},
   "outputs": [
    {
     "data": {
      "text/plain": [
       "737649"
      ]
     },
     "execution_count": 24,
     "metadata": {},
     "output_type": "execute_result"
    }
   ],
   "source": [
    "df1['date'].max()"
   ]
  },
  {
   "cell_type": "code",
   "execution_count": 25,
   "metadata": {},
   "outputs": [
    {
     "data": {
      "text/plain": [
       "datetime.datetime(2020, 8, 12, 0, 0)"
      ]
     },
     "execution_count": 25,
     "metadata": {},
     "output_type": "execute_result"
    }
   ],
   "source": [
    "maxdate = dt.datetime.fromordinal(df1['date'].max())\n",
    "maxdate"
   ]
  },
  {
   "cell_type": "code",
   "execution_count": 26,
   "metadata": {},
   "outputs": [
    {
     "data": {
      "text/html": [
       "<div>\n",
       "<style scoped>\n",
       "    .dataframe tbody tr th:only-of-type {\n",
       "        vertical-align: middle;\n",
       "    }\n",
       "\n",
       "    .dataframe tbody tr th {\n",
       "        vertical-align: top;\n",
       "    }\n",
       "\n",
       "    .dataframe thead th {\n",
       "        text-align: right;\n",
       "    }\n",
       "</style>\n",
       "<table border=\"1\" class=\"dataframe\">\n",
       "  <thead>\n",
       "    <tr style=\"text-align: right;\">\n",
       "      <th></th>\n",
       "      <th>location</th>\n",
       "      <th>date</th>\n",
       "      <th>new_cases</th>\n",
       "      <th>total_deaths</th>\n",
       "      <th>new_deaths</th>\n",
       "      <th>new_tests</th>\n",
       "      <th>total_tests</th>\n",
       "      <th>new_tests_smoothed</th>\n",
       "      <th>positive_rate</th>\n",
       "      <th>tests_units</th>\n",
       "      <th>stringency_index</th>\n",
       "      <th>population_density</th>\n",
       "    </tr>\n",
       "  </thead>\n",
       "  <tbody>\n",
       "    <tr>\n",
       "      <th>0</th>\n",
       "      <td>0</td>\n",
       "      <td>737650</td>\n",
       "      <td>63468</td>\n",
       "      <td>45839</td>\n",
       "      <td>947</td>\n",
       "      <td>547836.846</td>\n",
       "      <td>7235424.0</td>\n",
       "      <td>378575</td>\n",
       "      <td>0.065374</td>\n",
       "      <td>1</td>\n",
       "      <td>10.19</td>\n",
       "      <td>450.419</td>\n",
       "    </tr>\n",
       "    <tr>\n",
       "      <th>1</th>\n",
       "      <td>0</td>\n",
       "      <td>737652</td>\n",
       "      <td>75364</td>\n",
       "      <td>42573</td>\n",
       "      <td>563</td>\n",
       "      <td>546875.478</td>\n",
       "      <td>25467350.0</td>\n",
       "      <td>693562</td>\n",
       "      <td>0.075683</td>\n",
       "      <td>1</td>\n",
       "      <td>64.54</td>\n",
       "      <td>450.419</td>\n",
       "    </tr>\n",
       "    <tr>\n",
       "      <th>2</th>\n",
       "      <td>0</td>\n",
       "      <td>737656</td>\n",
       "      <td>76234</td>\n",
       "      <td>46372</td>\n",
       "      <td>847</td>\n",
       "      <td>636382.577</td>\n",
       "      <td>6437862.0</td>\n",
       "      <td>535739</td>\n",
       "      <td>0.094674</td>\n",
       "      <td>1</td>\n",
       "      <td>34.25</td>\n",
       "      <td>450.419</td>\n",
       "    </tr>\n",
       "    <tr>\n",
       "      <th>3</th>\n",
       "      <td>0</td>\n",
       "      <td>737659</td>\n",
       "      <td>75539</td>\n",
       "      <td>35738</td>\n",
       "      <td>964</td>\n",
       "      <td>756736.365</td>\n",
       "      <td>29673460.0</td>\n",
       "      <td>853635</td>\n",
       "      <td>0.097763</td>\n",
       "      <td>1</td>\n",
       "      <td>23.75</td>\n",
       "      <td>450.419</td>\n",
       "    </tr>\n",
       "    <tr>\n",
       "      <th>4</th>\n",
       "      <td>0</td>\n",
       "      <td>737663</td>\n",
       "      <td>63458</td>\n",
       "      <td>53355</td>\n",
       "      <td>943</td>\n",
       "      <td>735665.457</td>\n",
       "      <td>76942630.0</td>\n",
       "      <td>736755</td>\n",
       "      <td>0.046573</td>\n",
       "      <td>1</td>\n",
       "      <td>35.64</td>\n",
       "      <td>450.419</td>\n",
       "    </tr>\n",
       "  </tbody>\n",
       "</table>\n",
       "</div>"
      ],
      "text/plain": [
       "   location    date  new_cases  total_deaths  new_deaths   new_tests  \\\n",
       "0         0  737650      63468         45839         947  547836.846   \n",
       "1         0  737652      75364         42573         563  546875.478   \n",
       "2         0  737656      76234         46372         847  636382.577   \n",
       "3         0  737659      75539         35738         964  756736.365   \n",
       "4         0  737663      63458         53355         943  735665.457   \n",
       "\n",
       "   total_tests  new_tests_smoothed  positive_rate  tests_units  \\\n",
       "0    7235424.0              378575       0.065374            1   \n",
       "1   25467350.0              693562       0.075683            1   \n",
       "2    6437862.0              535739       0.094674            1   \n",
       "3   29673460.0              853635       0.097763            1   \n",
       "4   76942630.0              736755       0.046573            1   \n",
       "\n",
       "   stringency_index  population_density  \n",
       "0             10.19             450.419  \n",
       "1             64.54             450.419  \n",
       "2             34.25             450.419  \n",
       "3             23.75             450.419  \n",
       "4             35.64             450.419  "
      ]
     },
     "execution_count": 26,
     "metadata": {},
     "output_type": "execute_result"
    }
   ],
   "source": [
    "newdata=pd.read_csv(\"new_data.txt\")\n",
    "newdata"
   ]
  },
  {
   "cell_type": "markdown",
   "metadata": {},
   "source": [
    "# Choosing target and feature columns"
   ]
  },
  {
   "cell_type": "code",
   "execution_count": 27,
   "metadata": {},
   "outputs": [],
   "source": [
    "Y=df1[\"total_cases\"]\n",
    "X=df1[['location','date','new_cases','total_deaths','new_deaths','new_tests','total_tests','new_tests_smoothed','positive_rate','tests_units','stringency_index','population_density']]"
   ]
  },
  {
   "cell_type": "code",
   "execution_count": 28,
   "metadata": {},
   "outputs": [
    {
     "data": {
      "text/plain": [
       "pandas.core.frame.DataFrame"
      ]
     },
     "execution_count": 28,
     "metadata": {},
     "output_type": "execute_result"
    }
   ],
   "source": [
    "type(X)"
   ]
  },
  {
   "cell_type": "code",
   "execution_count": 29,
   "metadata": {},
   "outputs": [
    {
     "data": {
      "text/plain": [
       "(225, 12)"
      ]
     },
     "execution_count": 29,
     "metadata": {},
     "output_type": "execute_result"
    }
   ],
   "source": [
    "X.shape"
   ]
  },
  {
   "cell_type": "markdown",
   "metadata": {},
   "source": [
    "# Train-test-split"
   ]
  },
  {
   "cell_type": "code",
   "execution_count": 30,
   "metadata": {},
   "outputs": [],
   "source": [
    "from sklearn.model_selection import train_test_split"
   ]
  },
  {
   "cell_type": "code",
   "execution_count": 31,
   "metadata": {},
   "outputs": [],
   "source": [
    "X_train,X_test,Y_train,Y_test=train_test_split(X,Y,test_size=0.3,random_state=42)"
   ]
  },
  {
   "cell_type": "markdown",
   "metadata": {},
   "source": [
    "# Modelling, accuracy and prediction on new data"
   ]
  },
  {
   "cell_type": "markdown",
   "metadata": {},
   "source": [
    "Linear Regression modelling"
   ]
  },
  {
   "cell_type": "code",
   "execution_count": 32,
   "metadata": {},
   "outputs": [
    {
     "data": {
      "text/plain": [
       "LinearRegression(copy_X=True, fit_intercept=True, n_jobs=None, normalize=False)"
      ]
     },
     "execution_count": 32,
     "metadata": {},
     "output_type": "execute_result"
    }
   ],
   "source": [
    "from sklearn.linear_model import LinearRegression\n",
    "reg=LinearRegression()\n",
    "reg.fit(X_train,Y_train)"
   ]
  },
  {
   "cell_type": "markdown",
   "metadata": {},
   "source": [
    "Accuracy of Linear Regression"
   ]
  },
  {
   "cell_type": "code",
   "execution_count": 33,
   "metadata": {},
   "outputs": [
    {
     "data": {
      "text/plain": [
       "0.9957180991042057"
      ]
     },
     "execution_count": 33,
     "metadata": {},
     "output_type": "execute_result"
    }
   ],
   "source": [
    "reg.score(X_test,Y_test)"
   ]
  },
  {
   "cell_type": "code",
   "execution_count": 34,
   "metadata": {},
   "outputs": [
    {
     "data": {
      "text/plain": [
       "0.9960483964792013"
      ]
     },
     "execution_count": 34,
     "metadata": {},
     "output_type": "execute_result"
    }
   ],
   "source": [
    "reg.score(X_train,Y_train)"
   ]
  },
  {
   "cell_type": "markdown",
   "metadata": {},
   "source": [
    "Prediction on new data by Linear Regression"
   ]
  },
  {
   "cell_type": "code",
   "execution_count": 35,
   "metadata": {},
   "outputs": [
    {
     "data": {
      "text/plain": [
       "array([2318903.94058025, 2320144.26751208, 2444347.17064941,\n",
       "       2009444.7759223 , 2420702.35368478])"
      ]
     },
     "execution_count": 35,
     "metadata": {},
     "output_type": "execute_result"
    }
   ],
   "source": [
    "reg.predict(newdata)"
   ]
  },
  {
   "cell_type": "markdown",
   "metadata": {},
   "source": [
    "Random Forest Regressor modelling"
   ]
  },
  {
   "cell_type": "code",
   "execution_count": 36,
   "metadata": {},
   "outputs": [],
   "source": [
    "from sklearn.ensemble import RandomForestRegressor"
   ]
  },
  {
   "cell_type": "code",
   "execution_count": 37,
   "metadata": {},
   "outputs": [],
   "source": [
    "rand=RandomForestRegressor()"
   ]
  },
  {
   "cell_type": "code",
   "execution_count": 38,
   "metadata": {},
   "outputs": [
    {
     "data": {
      "text/plain": [
       "RandomForestRegressor(bootstrap=True, ccp_alpha=0.0, criterion='mse',\n",
       "                      max_depth=None, max_features='auto', max_leaf_nodes=None,\n",
       "                      max_samples=None, min_impurity_decrease=0.0,\n",
       "                      min_impurity_split=None, min_samples_leaf=1,\n",
       "                      min_samples_split=2, min_weight_fraction_leaf=0.0,\n",
       "                      n_estimators=100, n_jobs=None, oob_score=False,\n",
       "                      random_state=None, verbose=0, warm_start=False)"
      ]
     },
     "execution_count": 38,
     "metadata": {},
     "output_type": "execute_result"
    }
   ],
   "source": [
    "rand.fit(X_train,Y_train)"
   ]
  },
  {
   "cell_type": "markdown",
   "metadata": {},
   "source": [
    "Accuracy of Random Forest Regressor"
   ]
  },
  {
   "cell_type": "code",
   "execution_count": 39,
   "metadata": {},
   "outputs": [
    {
     "data": {
      "text/plain": [
       "0.9993490027967601"
      ]
     },
     "execution_count": 39,
     "metadata": {},
     "output_type": "execute_result"
    }
   ],
   "source": [
    "rand.score(X_test,Y_test)"
   ]
  },
  {
   "cell_type": "code",
   "execution_count": 40,
   "metadata": {},
   "outputs": [
    {
     "data": {
      "text/plain": [
       "0.9954454736826746"
      ]
     },
     "execution_count": 40,
     "metadata": {},
     "output_type": "execute_result"
    }
   ],
   "source": [
    "rand.score(X_train,Y_train)"
   ]
  },
  {
   "cell_type": "markdown",
   "metadata": {},
   "source": [
    "Prediction on new data by Random Forest Regressor"
   ]
  },
  {
   "cell_type": "code",
   "execution_count": 41,
   "metadata": {},
   "outputs": [
    {
     "data": {
      "text/plain": [
       "array([1963149.18, 2090208.69, 2009417.12, 2001183.2 , 2201587.38])"
      ]
     },
     "execution_count": 41,
     "metadata": {},
     "output_type": "execute_result"
    }
   ],
   "source": [
    "rand.predict(newdata)"
   ]
  }
 ],
 "metadata": {
  "kernelspec": {
   "display_name": "Python 3",
   "language": "python",
   "name": "python3"
  },
  "language_info": {
   "codemirror_mode": {
    "name": "ipython",
    "version": 3
   },
   "file_extension": ".py",
   "mimetype": "text/x-python",
   "name": "python",
   "nbconvert_exporter": "python",
   "pygments_lexer": "ipython3",
   "version": "3.7.6"
  }
 },
 "nbformat": 4,
 "nbformat_minor": 4
}
